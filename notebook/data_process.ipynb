{
 "cells": [
  {
   "cell_type": "code",
   "execution_count": 1,
   "metadata": {},
   "outputs": [
    {
     "name": "stderr",
     "output_type": "stream",
     "text": [
      "2022-12-03 00:49:12.059161: I tensorflow/stream_executor/platform/default/dso_loader.cc:53] Successfully opened dynamic library libcudart.so.11.0\n",
      "/home/zhengly/anaconda3/envs/promap/lib/python3.8/site-packages/sklearn/utils/validation.py:593: FutureWarning: np.matrix usage is deprecated in 1.0 and will raise a TypeError in 1.2. Please convert to a numpy array with np.asarray. For more information see: https://numpy.org/doc/stable/reference/generated/numpy.matrix.html\n",
      "  warnings.warn(\n",
      "/home/zhengly/anaconda3/envs/promap/lib/python3.8/site-packages/sklearn/utils/validation.py:593: FutureWarning: np.matrix usage is deprecated in 1.0 and will raise a TypeError in 1.2. Please convert to a numpy array with np.asarray. For more information see: https://numpy.org/doc/stable/reference/generated/numpy.matrix.html\n",
      "  warnings.warn(\n"
     ]
    }
   ],
   "source": [
    "# data procession without diamond\n",
    "\n",
    "import sys\n",
    "import os\n",
    "sys.path.insert(0,\"../PFmap/data_procession\")\n",
    "from data_predict import Data_process\n",
    "\n",
    "file_path='../example'\n",
    "protein_file=os.path.join(file_path,\"output-protein.dat\")\n",
    "split_file=os.path.join(file_path,\"input-protein.dat\")\n",
    "save_file=os.path.join(file_path,\"protein.pkl\")\n",
    "data=Data_process(protein_file=protein_file,split_file=split_file,save_file=save_file,num=1484)\n",
    "data.calculate_feature(row_num=39,size=(39,39,7))"
   ]
  }
 ],
 "metadata": {
  "kernelspec": {
   "display_name": "Python 3.8.8 ('promap': conda)",
   "language": "python",
   "name": "python3"
  },
  "language_info": {
   "codemirror_mode": {
    "name": "ipython",
    "version": 3
   },
   "file_extension": ".py",
   "mimetype": "text/x-python",
   "name": "python",
   "nbconvert_exporter": "python",
   "pygments_lexer": "ipython3",
   "version": "3.8.8"
  },
  "orig_nbformat": 4,
  "vscode": {
   "interpreter": {
    "hash": "1ccc2beec839776553e3182f6c6fa3a2b7d2e305b6810ce6af4b3e55c97463ec"
   }
  }
 },
 "nbformat": 4,
 "nbformat_minor": 2
}
